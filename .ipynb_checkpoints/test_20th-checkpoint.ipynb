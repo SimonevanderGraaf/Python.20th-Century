{
 "cells": [
  {
   "cell_type": "markdown",
   "id": "2cbe15c1-b077-44dc-bc7c-affe71730451",
   "metadata": {},
   "source": [
    "## Test Notebook for 20th century repo"
   ]
  },
  {
   "cell_type": "code",
   "execution_count": 2,
   "id": "9167455c-71b1-4098-b605-8d5de7660b21",
   "metadata": {
    "tags": []
   },
   "outputs": [
    {
     "data": {
      "text/plain": [
       "2"
      ]
     },
     "execution_count": 2,
     "metadata": {},
     "output_type": "execute_result"
    }
   ],
   "source": [
    "1+1"
   ]
  },
  {
   "cell_type": "code",
   "execution_count": null,
   "id": "ff07d0cd-ef08-40c4-b807-f9e865c798be",
   "metadata": {},
   "outputs": [],
   "source": []
  }
 ],
 "metadata": {
  "kernelspec": {
   "display_name": "Python 3 (ipykernel)",
   "language": "python",
   "name": "python3"
  },
  "language_info": {
   "codemirror_mode": {
    "name": "ipython",
    "version": 3
   },
   "file_extension": ".py",
   "mimetype": "text/x-python",
   "name": "python",
   "nbconvert_exporter": "python",
   "pygments_lexer": "ipython3",
   "version": "3.11.5"
  }
 },
 "nbformat": 4,
 "nbformat_minor": 5
}
