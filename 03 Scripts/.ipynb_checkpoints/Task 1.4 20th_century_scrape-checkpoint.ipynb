{
 "cells": [
  {
   "cell_type": "markdown",
   "id": "062f81af-e4d5-411c-a186-eb65ee3fc97a",
   "metadata": {},
   "source": [
    "# Task 1.4 Accessing Web Data with Data Scraping\n",
    "\n",
    "## Table of Contents\n",
    "### 1. Importing libraries\n",
    "### 2. Scraping an entire page"
   ]
  },
  {
   "cell_type": "markdown",
   "id": "406414aa-a23d-4bea-9674-b465829cf89d",
   "metadata": {},
   "source": [
    "### 1. Importing libraries"
   ]
  },
  {
   "cell_type": "code",
   "execution_count": 1,
   "id": "f5026294-2b2c-4d94-a960-f98a55ae5eed",
   "metadata": {},
   "outputs": [],
   "source": [
    "# Import libraries\n",
    "\n",
    "import pandas as pd\n",
    "import time\n",
    "from selenium import webdriver\n",
    "from selenium.webdriver.common.by import By\n",
    "from selenium.webdriver.chrome.service import Service\n",
    "import matplotlib.pyplot as plt \n",
    "import os\n",
    "import logging"
   ]
  },
  {
   "cell_type": "code",
   "execution_count": 11,
   "id": "d7c358fd-29a0-401d-895b-e78d50f15df1",
   "metadata": {},
   "outputs": [
    {
     "name": "stdout",
     "output_type": "stream",
     "text": [
      "Collecting selenium==4.21.0\n",
      "  Downloading selenium-4.21.0-py3-none-any.whl.metadata (6.9 kB)\n",
      "Requirement already satisfied: urllib3<3,>=1.26 in c:\\users\\svand\\anaconda3\\envs\\twentieth_century\\lib\\site-packages (from urllib3[socks]<3,>=1.26->selenium==4.21.0) (2.2.1)\n",
      "Collecting trio~=0.17 (from selenium==4.21.0)\n",
      "  Downloading trio-0.25.1-py3-none-any.whl.metadata (8.7 kB)\n",
      "Collecting trio-websocket~=0.9 (from selenium==4.21.0)\n",
      "  Downloading trio_websocket-0.11.1-py3-none-any.whl.metadata (4.7 kB)\n",
      "Requirement already satisfied: certifi>=2021.10.8 in c:\\users\\svand\\anaconda3\\envs\\twentieth_century\\lib\\site-packages (from selenium==4.21.0) (2024.2.2)\n",
      "Requirement already satisfied: typing_extensions>=4.9.0 in c:\\users\\svand\\anaconda3\\envs\\twentieth_century\\lib\\site-packages (from selenium==4.21.0) (4.11.0)\n",
      "Collecting attrs>=23.2.0 (from trio~=0.17->selenium==4.21.0)\n",
      "  Using cached attrs-23.2.0-py3-none-any.whl.metadata (9.5 kB)\n",
      "Collecting sortedcontainers (from trio~=0.17->selenium==4.21.0)\n",
      "  Downloading sortedcontainers-2.4.0-py2.py3-none-any.whl.metadata (10 kB)\n",
      "Requirement already satisfied: idna in c:\\users\\svand\\anaconda3\\envs\\twentieth_century\\lib\\site-packages (from trio~=0.17->selenium==4.21.0) (3.7)\n",
      "Collecting outcome (from trio~=0.17->selenium==4.21.0)\n",
      "  Downloading outcome-1.3.0.post0-py2.py3-none-any.whl.metadata (2.6 kB)\n",
      "Requirement already satisfied: sniffio>=1.3.0 in c:\\users\\svand\\anaconda3\\envs\\twentieth_century\\lib\\site-packages (from trio~=0.17->selenium==4.21.0) (1.3.0)\n",
      "Requirement already satisfied: cffi>=1.14 in c:\\users\\svand\\anaconda3\\envs\\twentieth_century\\lib\\site-packages (from trio~=0.17->selenium==4.21.0) (1.16.0)\n",
      "Collecting wsproto>=0.14 (from trio-websocket~=0.9->selenium==4.21.0)\n",
      "  Downloading wsproto-1.2.0-py3-none-any.whl.metadata (5.6 kB)\n",
      "Requirement already satisfied: pysocks!=1.5.7,<2.0,>=1.5.6 in c:\\users\\svand\\anaconda3\\envs\\twentieth_century\\lib\\site-packages (from urllib3[socks]<3,>=1.26->selenium==4.21.0) (1.7.1)\n",
      "Requirement already satisfied: pycparser in c:\\users\\svand\\anaconda3\\envs\\twentieth_century\\lib\\site-packages (from cffi>=1.14->trio~=0.17->selenium==4.21.0) (2.21)\n",
      "Collecting h11<1,>=0.9.0 (from wsproto>=0.14->trio-websocket~=0.9->selenium==4.21.0)\n",
      "  Using cached h11-0.14.0-py3-none-any.whl.metadata (8.2 kB)\n",
      "Downloading selenium-4.21.0-py3-none-any.whl (9.5 MB)\n",
      "   ---------------------------------------- 0.0/9.5 MB ? eta -:--:--\n",
      "    --------------------------------------- 0.2/9.5 MB 4.1 MB/s eta 0:00:03\n",
      "   --- ------------------------------------ 0.9/9.5 MB 9.5 MB/s eta 0:00:01\n",
      "   ----------- ---------------------------- 2.7/9.5 MB 18.8 MB/s eta 0:00:01\n",
      "   ----------------- ---------------------- 4.2/9.5 MB 22.4 MB/s eta 0:00:01\n",
      "   ----------------------- ---------------- 5.6/9.5 MB 23.7 MB/s eta 0:00:01\n",
      "   ------------------------------ --------- 7.2/9.5 MB 25.7 MB/s eta 0:00:01\n",
      "   ------------------------------------ --- 8.7/9.5 MB 26.3 MB/s eta 0:00:01\n",
      "   ---------------------------------------- 9.5/9.5 MB 26.3 MB/s eta 0:00:00\n",
      "Downloading trio-0.25.1-py3-none-any.whl (467 kB)\n",
      "   ---------------------------------------- 0.0/467.7 kB ? eta -:--:--\n",
      "   --------------------------------------- 467.7/467.7 kB 30.5 MB/s eta 0:00:00\n",
      "Downloading trio_websocket-0.11.1-py3-none-any.whl (17 kB)\n",
      "Using cached attrs-23.2.0-py3-none-any.whl (60 kB)\n",
      "Downloading wsproto-1.2.0-py3-none-any.whl (24 kB)\n",
      "Downloading outcome-1.3.0.post0-py2.py3-none-any.whl (10 kB)\n",
      "Downloading sortedcontainers-2.4.0-py2.py3-none-any.whl (29 kB)\n",
      "Using cached h11-0.14.0-py3-none-any.whl (58 kB)\n",
      "Installing collected packages: sortedcontainers, h11, attrs, wsproto, outcome, trio, trio-websocket, selenium\n",
      "  Attempting uninstall: attrs\n",
      "    Found existing installation: attrs 23.1.0\n",
      "    Uninstalling attrs-23.1.0:\n",
      "      Successfully uninstalled attrs-23.1.0\n",
      "Successfully installed attrs-23.2.0 h11-0.14.0 outcome-1.3.0.post0 selenium-4.21.0 sortedcontainers-2.4.0 trio-0.25.1 trio-websocket-0.11.1 wsproto-1.2.0\n",
      "Note: you may need to restart the kernel to use updated packages.\n"
     ]
    }
   ],
   "source": [
    "# pip install selenium==4.21.0"
   ]
  },
  {
   "cell_type": "code",
   "execution_count": 2,
   "id": "3b81f305-c510-47c1-acde-bd4f17626420",
   "metadata": {},
   "outputs": [],
   "source": [
    "driver_path = r'C:\\Program Files\\Google\\Chrome\\chromedriver.exe'"
   ]
  },
  {
   "cell_type": "code",
   "execution_count": 3,
   "id": "ee0b3d2b-faa9-49ee-9b4b-3ae0e8aa76e5",
   "metadata": {},
   "outputs": [],
   "source": [
    "service = Service(driver_path)"
   ]
  },
  {
   "cell_type": "code",
   "execution_count": 4,
   "id": "26836e16-e02a-4e93-a9f1-d0075f84b3ad",
   "metadata": {},
   "outputs": [],
   "source": [
    "# Install Chrome driver manager\n",
    "driver = webdriver.Chrome(service=Service(driver_path))"
   ]
  },
  {
   "cell_type": "code",
   "execution_count": 5,
   "id": "ff48f1d2-1d66-43b5-b128-5cf230cbbb47",
   "metadata": {},
   "outputs": [],
   "source": [
    "#terminate\n",
    "driver.quit()"
   ]
  },
  {
   "cell_type": "markdown",
   "id": "d8ed7055-bee0-4611-b897-68ce5cdfa08b",
   "metadata": {},
   "source": [
    "### 2. Scraping an entire page"
   ]
  },
  {
   "cell_type": "code",
   "execution_count": 6,
   "id": "2bd71a71-0281-481b-80eb-4904007f00aa",
   "metadata": {},
   "outputs": [],
   "source": [
    "# Import Libraries\n",
    "\n",
    "from bs4 import BeautifulSoup\n",
    "import requests"
   ]
  },
  {
   "cell_type": "code",
   "execution_count": 8,
   "id": "b9627a8c-4367-4045-bee6-f27d71f80ca7",
   "metadata": {},
   "outputs": [],
   "source": [
    "# Get URL\n",
    "\n",
    "page_url = requests.get(\"https://en.wikipedia.org/wiki/Key_events_of_the_20th_century\")"
   ]
  },
  {
   "cell_type": "code",
   "execution_count": 9,
   "id": "2276a1ee-7471-4b2b-8540-8c02ae297875",
   "metadata": {},
   "outputs": [
    {
     "name": "stdout",
     "output_type": "stream",
     "text": [
      "<title>Key events of the 20th century - Wikipedia</title>\n"
     ]
    }
   ],
   "source": [
    "# Create soup and get title\n",
    "\n",
    "soup = BeautifulSoup(page_url.text, 'html.parser')\n",
    "print(soup.title)"
   ]
  },
  {
   "cell_type": "code",
   "execution_count": 10,
   "id": "e79740e7-b2b7-42b7-9f29-f1ea7d05c85e",
   "metadata": {},
   "outputs": [],
   "source": [
    "text = soup.get_text()"
   ]
  },
  {
   "cell_type": "code",
   "execution_count": 11,
   "id": "3519f998-f7c5-4d62-8fb5-31b6978a009a",
   "metadata": {},
   "outputs": [],
   "source": [
    "text = text.encode ('UTF-8')"
   ]
  },
  {
   "cell_type": "code",
   "execution_count": 12,
   "id": "826576cd-ae31-466f-895c-0c6b4c66a0dd",
   "metadata": {},
   "outputs": [],
   "source": [
    "with open('20th_Century_Wiki.txt', 'wb') as f:\n",
    "       f.write(text)"
   ]
  },
  {
   "cell_type": "code",
   "execution_count": 13,
   "id": "0b4cbe21-7bc1-4b3a-a789-10a015fa6fc9",
   "metadata": {},
   "outputs": [
    {
     "ename": "SyntaxError",
     "evalue": "invalid syntax (3827820173.py, line 1)",
     "output_type": "error",
     "traceback": [
      "\u001b[1;36m  Cell \u001b[1;32mIn[13], line 1\u001b[1;36m\u001b[0m\n\u001b[1;33m    git add .\u001b[0m\n\u001b[1;37m        ^\u001b[0m\n\u001b[1;31mSyntaxError\u001b[0m\u001b[1;31m:\u001b[0m invalid syntax\n"
     ]
    }
   ],
   "source": [
    "git add ."
   ]
  },
  {
   "cell_type": "code",
   "execution_count": null,
   "id": "f53497c1-ea61-4b82-b2d0-0138a95dcfb8",
   "metadata": {},
   "outputs": [],
   "source": []
  }
 ],
 "metadata": {
  "kernelspec": {
   "display_name": "Python 3 (ipykernel)",
   "language": "python",
   "name": "python3"
  },
  "language_info": {
   "codemirror_mode": {
    "name": "ipython",
    "version": 3
   },
   "file_extension": ".py",
   "mimetype": "text/x-python",
   "name": "python",
   "nbconvert_exporter": "python",
   "pygments_lexer": "ipython3",
   "version": "3.9.19"
  }
 },
 "nbformat": 4,
 "nbformat_minor": 5
}
